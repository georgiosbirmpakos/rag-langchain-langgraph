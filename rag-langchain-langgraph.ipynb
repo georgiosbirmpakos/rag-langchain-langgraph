{
 "cells": [
  {
   "cell_type": "markdown",
   "id": "ffb2ef88",
   "metadata": {},
   "source": [
    "https://python.langchain.com/docs/tutorials/rag/"
   ]
  },
  {
   "cell_type": "markdown",
   "id": "e3e60dfc",
   "metadata": {},
   "source": [
    "## Loading Environent Variables"
   ]
  },
  {
   "cell_type": "code",
   "execution_count": 1,
   "id": "e0990bff",
   "metadata": {},
   "outputs": [
    {
     "data": {
      "text/plain": [
       "True"
      ]
     },
     "execution_count": 1,
     "metadata": {},
     "output_type": "execute_result"
    }
   ],
   "source": [
    "import os\n",
    "from dotenv import load_dotenv\n",
    "\n",
    "# Load environment variables from .env file\n",
    "load_dotenv()\n",
    "\n",
    "# os.getenv('LANGSMITH_API_KEY')\n",
    "# os.getenv('OPENAI_API_KEY')\n",
    "# os.getenv('PINECONE_API_KEY')\n",
    "# os.getenv('PINECONE_INDEX_NAME')"
   ]
  },
  {
   "cell_type": "markdown",
   "id": "46428886",
   "metadata": {},
   "source": [
    "## Selecting Chat Model"
   ]
  },
  {
   "cell_type": "code",
   "execution_count": 2,
   "id": "2e3ef389",
   "metadata": {},
   "outputs": [],
   "source": [
    "from langchain.chat_models import init_chat_model\n",
    "\n",
    "llm = init_chat_model(\"gpt-4o-mini\", model_provider=\"openai\")"
   ]
  },
  {
   "cell_type": "markdown",
   "id": "7f485625",
   "metadata": {},
   "source": [
    "# Selecting Embeddings Model"
   ]
  },
  {
   "cell_type": "code",
   "execution_count": 3,
   "id": "0501a580",
   "metadata": {},
   "outputs": [],
   "source": [
    "from langchain_openai import OpenAIEmbeddings\n",
    "\n",
    "# OpenAI Embedding Models and their dimensions:\n",
    "# - text-embedding-ada-002: 1536 dimensions\n",
    "# - text-embedding-3-small: 1536 dimensions  \n",
    "# - text-embedding-3-large: 3072 dimensions\n",
    "# - text-embedding-3-small with dimensions=1024: 1024 dimensions\n",
    "\n",
    "embeddings = OpenAIEmbeddings(\n",
    "    model=\"text-embedding-3-small\",\n",
    "    dimensions=1024  \n",
    ")"
   ]
  },
  {
   "cell_type": "markdown",
   "id": "d8c6d306",
   "metadata": {},
   "source": [
    "## Selecting Vector Store"
   ]
  },
  {
   "cell_type": "code",
   "execution_count": 4,
   "id": "3c7504ab",
   "metadata": {},
   "outputs": [
    {
     "name": "stderr",
     "output_type": "stream",
     "text": [
      "c:\\Users\\PX\\anaconda3\\envs\\music-chatbot\\lib\\site-packages\\langchain_pinecone\\__init__.py:3: LangChainDeprecationWarning: As of langchain-core 0.3.0, LangChain uses pydantic v2 internally. The langchain_core.pydantic_v1 module was a compatibility shim for pydantic v1, and should no longer be used. Please update the code to import from Pydantic directly.\n",
      "\n",
      "For example, replace imports like: `from langchain_core.pydantic_v1 import BaseModel`\n",
      "with: `from pydantic import BaseModel`\n",
      "or the v1 compatibility namespace if you are working in a code base that has not been fully upgraded to pydantic 2 yet. \tfrom pydantic.v1 import BaseModel\n",
      "\n",
      "  from langchain_pinecone.vectorstores import Pinecone, PineconeVectorStore\n",
      "Index host ignored when initializing with index object.\n"
     ]
    }
   ],
   "source": [
    "from langchain_pinecone import PineconeVectorStore\n",
    "from pinecone import Pinecone\n",
    "\n",
    "pc = Pinecone(api_key=os.getenv('PINECONE_API_KEY'))\n",
    "index = pc.Index(os.getenv('PINECONE_INDEX_NAME'))\n",
    "\n",
    "vector_store = PineconeVectorStore(embedding=embeddings, index=index)"
   ]
  },
  {
   "cell_type": "markdown",
   "id": "1ba99bad",
   "metadata": {},
   "source": [
    "## LOADING THE DOCUMENT"
   ]
  },
  {
   "cell_type": "code",
   "execution_count": 5,
   "id": "25e98445",
   "metadata": {},
   "outputs": [
    {
     "name": "stderr",
     "output_type": "stream",
     "text": [
      "USER_AGENT environment variable not set, consider setting it to identify your requests.\n"
     ]
    }
   ],
   "source": [
    "import bs4\n",
    "from langchain_community.document_loaders import WebBaseLoader\n",
    "\n",
    "# Load and chunk contents of the blog\n",
    "loader = WebBaseLoader(\n",
    "    web_paths=(\"https://lilianweng.github.io/posts/2023-06-23-agent/\",),\n",
    "    bs_kwargs=dict(\n",
    "        parse_only=bs4.SoupStrainer(\n",
    "            class_=(\"post-content\", \"post-title\", \"post-header\")\n",
    "        )\n",
    "    ),\n",
    ")\n",
    "docs = loader.load()"
   ]
  },
  {
   "cell_type": "markdown",
   "id": "647ee79e",
   "metadata": {},
   "source": [
    "## SPLITTING THE DOCUMENT"
   ]
  },
  {
   "cell_type": "code",
   "execution_count": 6,
   "id": "e43139e5",
   "metadata": {},
   "outputs": [],
   "source": [
    "from langchain_text_splitters import RecursiveCharacterTextSplitter\n",
    "\n",
    "text_splitter = RecursiveCharacterTextSplitter(chunk_size=1000, chunk_overlap=200)\n",
    "all_splits = text_splitter.split_documents(docs)"
   ]
  },
  {
   "cell_type": "markdown",
   "id": "1f41b7c9",
   "metadata": {},
   "source": [
    "## STORING PERMANENTLY THE SPLITS INTO THE PINCONE VECTOR DB"
   ]
  },
  {
   "cell_type": "code",
   "execution_count": 7,
   "id": "bc900177",
   "metadata": {},
   "outputs": [
    {
     "name": "stdout",
     "output_type": "stream",
     "text": [
      "{'dimension': 1024,\n",
      " 'index_fullness': 0.0,\n",
      " 'metric': 'cosine',\n",
      " 'namespaces': {'': {'vector_count': 126}},\n",
      " 'total_vector_count': 126,\n",
      " 'vector_type': 'dense'}\n"
     ]
    }
   ],
   "source": [
    "# Index chunks\n",
    "_ = vector_store.add_documents(documents=all_splits)\n",
    "print(index.describe_index_stats())"
   ]
  },
  {
   "cell_type": "markdown",
   "id": "12b85458",
   "metadata": {},
   "source": [
    "## Downloading a ready-made RAG question-answering prompt template from LangChain Hub and making it available as a PromptTemplate object in prompt"
   ]
  },
  {
   "cell_type": "code",
   "execution_count": 8,
   "id": "530f6835",
   "metadata": {},
   "outputs": [
    {
     "name": "stdout",
     "output_type": "stream",
     "text": [
      "input_variables=['context', 'question'] input_types={} partial_variables={} metadata={'lc_hub_owner': 'rlm', 'lc_hub_repo': 'rag-prompt', 'lc_hub_commit_hash': '50442af133e61576e74536c6556cefe1fac147cad032f4377b60c436e6cdcb6e'} messages=[HumanMessagePromptTemplate(prompt=PromptTemplate(input_variables=['context', 'question'], input_types={}, partial_variables={}, template=\"You are an assistant for question-answering tasks. Use the following pieces of retrieved context to answer the question. If you don't know the answer, just say that you don't know. Use three sentences maximum and keep the answer concise.\\nQuestion: {question} \\nContext: {context} \\nAnswer:\"), additional_kwargs={})]\n"
     ]
    }
   ],
   "source": [
    "from langchain import hub\n",
    "\n",
    "prompt = hub.pull(\"rlm/rag-prompt\")\n",
    "print(prompt)"
   ]
  },
  {
   "cell_type": "markdown",
   "id": "bed7368e",
   "metadata": {},
   "source": [
    "### RETRIEVING DOCS BASED ON THE QUESTION \n",
    "### GENERATING ANSWER BASED ON THE RETRIEVED DOCS (CONTEXT) "
   ]
  },
  {
   "cell_type": "code",
   "execution_count": null,
   "id": "45443300",
   "metadata": {},
   "outputs": [],
   "source": [
    "from typing_extensions import List, TypedDict\n",
    "from langchain_core.documents import Document\n",
    "\n",
    "# Define state for application\n",
    "class State(TypedDict):\n",
    "    question: str\n",
    "    context: List[Document]\n",
    "    answer: str\n",
    "\n",
    "# Define application steps\n",
    "def retrieve(state: State):\n",
    "    retrieved_docs = vector_store.similarity_search(state[\"question\"])\n",
    "    return {\"context\": retrieved_docs}\n",
    "\n",
    "\n",
    "def generate(state: State):\n",
    "    docs_content = \"\\n\\n\".join(doc.page_content for doc in state[\"context\"])\n",
    "    messages = prompt.invoke({\"question\": state[\"question\"], \"context\": docs_content})\n",
    "    response = llm.invoke(messages)\n",
    "    return {\"answer\": response.content}"
   ]
  },
  {
   "cell_type": "markdown",
   "id": "0713de7b",
   "metadata": {},
   "source": [
    "## BUILDING THE LANGGRAPH"
   ]
  },
  {
   "cell_type": "code",
   "execution_count": 18,
   "id": "a43cdedc",
   "metadata": {},
   "outputs": [
    {
     "data": {
      "image/png": "[encoded data removed]",
      "text/plain": [
       "<langgraph.graph.state.CompiledStateGraph object at 0x00000136BD028160>"
      ]
     },
     "execution_count": 18,
     "metadata": {},
     "output_type": "execute_result"
    }
   ],
   "source": [
    "from langgraph.graph import START, StateGraph\n",
    "\n",
    "# Compile application and test\n",
    "graph_builder = StateGraph(State).add_sequence([retrieve, generate])\n",
    "graph_builder.add_edge(START, \"retrieve\")\n",
    "graph = graph_builder.compile()\n",
    "graph"
   ]
  },
  {
   "cell_type": "markdown",
   "id": "e4c43ecc",
   "metadata": {},
   "source": [
    "## TESTING THE APP"
   ]
  },
  {
   "cell_type": "code",
   "execution_count": 11,
   "id": "fbc9bb3f",
   "metadata": {},
   "outputs": [
    {
     "name": "stdout",
     "output_type": "stream",
     "text": [
      "Task decomposition is the process of breaking down a complex task into simpler, manageable steps or subgoals. This can be achieved through methods like simple prompts, task-specific instructions, or human inputs. Additionally, approaches like Chain of Thought (CoT) and Tree of Thoughts enhance this by guiding structured reasoning through multiple steps.\n"
     ]
    }
   ],
   "source": [
    "response = graph.invoke({\"question\": \"What is Task Decomposition?\"})\n",
    "print(response[\"answer\"])"
   ]
  }
 ],
 "metadata": {
  "kernelspec": {
   "display_name": "music-chatbot",
   "language": "python",
   "name": "python3"
  },
  "language_info": {
   "codemirror_mode": {
    "name": "ipython",
    "version": 3
   },
   "file_extension": ".py",
   "mimetype": "text/x-python",
   "name": "python",
   "nbconvert_exporter": "python",
   "pygments_lexer": "ipython3",
   "version": "3.10.18"
  }
 },
 "nbformat": 4,
 "nbformat_minor": 5
}
